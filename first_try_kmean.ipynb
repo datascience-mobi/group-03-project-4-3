{
 "cells": [
  {
   "cell_type": "code",
   "execution_count": 238,
   "metadata": {},
   "outputs": [
    {
     "name": "stdout",
     "output_type": "stream",
     "text": [
      "  X|Y|clos_centr|dis_a|dis_b|dis_c\n",
      "[[1. 2. 0. 0. 0. 0.]\n",
      " [2. 1. 0. 0. 0. 0.]\n",
      " [2. 3. 0. 0. 0. 0.]\n",
      " [3. 2. 0. 0. 0. 0.]\n",
      " [7. 2. 0. 0. 0. 0.]\n",
      " [8. 1. 0. 0. 0. 0.]\n",
      " [8. 3. 0. 0. 0. 0.]\n",
      " [9. 2. 0. 0. 0. 0.]\n",
      " [1. 8. 0. 0. 0. 0.]\n",
      " [2. 7. 0. 0. 0. 0.]\n",
      " [2. 9. 0. 0. 0. 0.]\n",
      " [3. 8. 0. 0. 0. 0.]]\n"
     ]
    },
    {
     "data": {
      "image/png": "[encoded data removed]",
      "text/plain": [
       "<Figure size 432x288 with 1 Axes>"
      ]
     },
     "metadata": {
      "needs_background": "light"
     },
     "output_type": "display_data"
    }
   ],
   "source": [
    "import numpy as np\n",
    "import matplotlib.pyplot as plt\n",
    "%matplotlib inline\n",
    "import math\n",
    "from dataclasses import dataclass\n",
    "\n",
    "@dataclass        \n",
    "class centroid:\n",
    "    x: float\n",
    "    y: float\n",
    "    counter: int = 0\n",
    "    score_x: float = 0\n",
    "    score_y: float = 0\n",
    "\n",
    "cluster_guess=3        \n",
    "a = centroid(4, 3, 0, 0, 0) #entweder nur x, y koordinate oder alles mit 0 initialisieren\n",
    "b = centroid(5, 5)\n",
    "c = centroid(7, 5)\n",
    "\n",
    "\n",
    "#create array with points and distance to n centroids [x, y, closest centroid, dis_a, dis_b, dis_c, ...]...\n",
    "#closest centroid a=1, b=2, c=3, ...\n",
    "array = np.zeros((12, cluster_guess + 3)) #eigentlich: np.zeros(\"Anzahl der Datenpunkte\", cluster_guess + 3 )\n",
    "height, width = array.shape\n",
    "\n",
    "#load data: autonomes Laden der Daten\n",
    "array[0] = [1, 2, 0, 0, 0, 0]\n",
    "array[1] = [2, 1, 0, 0, 0, 0]\n",
    "array[2] = [2, 3, 0, 0, 0, 0]\n",
    "array[3] = [3, 2, 0, 0, 0, 0]\n",
    "\n",
    "array[4] = [7, 2, 0, 0, 0, 0]\n",
    "array[5] = [8, 1, 0, 0, 0, 0]\n",
    "array[6] = [8, 3, 0, 0, 0, 0]\n",
    "array[7] = [9, 2, 0, 0, 0, 0]\n",
    "\n",
    "array[8] = [1, 8, 0, 0, 0, 0]\n",
    "array[9] = [2, 7, 0, 0, 0, 0]\n",
    "array[10] = [2, 9, 0, 0, 0, 0]\n",
    "array[11] = [3, 8, 0, 0, 0, 0]\n",
    "\n",
    "\n",
    "\n",
    "plt.figure()\n",
    "\n",
    "\n",
    "def plot_array(): #erstellt ein Plot mit den centroiden und den Punkten in der jeweiligen Farbe/Form\n",
    "    \n",
    "    plt.plot(a.x, a.y, 'bx')\n",
    "    plt.plot(b.x, b.y, 'gx')\n",
    "    plt.plot(c.x, c.y, 'rx')\n",
    "    \n",
    "    #je nachdem welcher centroid am nächsten ist, wird eine Farbe zugeordnet\n",
    "    for counter, value in enumerate(array):\n",
    "        if value[2] == 0:\n",
    "            plt.plot(value[0],value[1], 'ko')\n",
    "            \n",
    "        elif value[2] == 1:\n",
    "            plt.plot(value[0],value[1], 'bo')\n",
    "            \n",
    "        elif value[2] == 2:\n",
    "            plt.plot(value[0],value[1], 'go')\n",
    "            \n",
    "        if value[2] == 3:\n",
    "            plt.plot(value[0],value[1], 'ro')\n",
    "       \n",
    "    \n",
    "#Berechnet Abstand zwischen einem Punkt und einem Centroid und gibt diesen zurück\n",
    "def distance_to_point(x, y, centroid):\n",
    "    del_x = x-centroid.x \n",
    "    del_y = y-centroid.y\n",
    "    del_x = -del_x if del_x<0 else del_x\n",
    "    del_y = -del_y if del_y<0 else del_y\n",
    "    distance = math.sqrt(del_x*del_x + del_y*del_y)\n",
    "    return distance\n",
    "\n",
    "print(\"  X|Y|clos_centr|dis_a|dis_b|dis_c\")\n",
    "print(array)\n",
    "plot_array()\n",
    "\n",
    "plt.show()    "
   ]
  },
  {
   "cell_type": "code",
   "execution_count": 235,
   "metadata": {},
   "outputs": [
    {
     "name": "stdout",
     "output_type": "stream",
     "text": [
      "  X          Y         clos_centr  dis_a      dis_b      dis_c\n",
      "[[1.         2.         0.         3.16227766 5.         6.70820393]\n",
      " [2.         1.         0.         2.82842712 5.         6.40312424]\n",
      " [2.         3.         0.         2.         3.60555128 5.38516481]\n",
      " [3.         2.         0.         1.41421356 3.60555128 5.        ]\n",
      " [7.         2.         0.         3.16227766 3.60555128 3.        ]\n",
      " [8.         1.         0.         4.47213595 5.         4.12310563]\n",
      " [8.         3.         0.         4.         3.60555128 2.23606798]\n",
      " [9.         2.         0.         5.09901951 5.         3.60555128]\n",
      " [1.         8.         0.         5.83095189 5.         6.70820393]\n",
      " [2.         7.         0.         4.47213595 3.60555128 5.38516481]\n",
      " [2.         9.         0.         6.32455532 5.         6.40312424]\n",
      " [3.         8.         0.         5.09901951 3.60555128 5.        ]]\n"
     ]
    }
   ],
   "source": [
    "#Funktion die für den jeweiligen Centroid den Abstand berechnet und in das Array schreibt\n",
    "def measure_distance():\n",
    "    \n",
    "    for counter_array, value in enumerate(array):\n",
    "        distance_a = distance_to_point(value[0], value[1], a)\n",
    "        array[counter_array, 3] = distance_a\n",
    "        \n",
    "    for counter_array, value in enumerate(array):\n",
    "        distance_b = distance_to_point(value[0], value[1], b)\n",
    "        array[counter_array, 4] = distance_b\n",
    "        \n",
    "    for counter_array, value in enumerate(array):\n",
    "        distance_c = distance_to_point(value[0], value[1], c)\n",
    "        array[counter_array, 5] = distance_c\n",
    "            \n",
    "measure_distance()   \n",
    "print(\"  X          Y         clos_centr  dis_a      dis_b      dis_c\")\n",
    "print(array)"
   ]
  },
  {
   "cell_type": "code",
   "execution_count": 236,
   "metadata": {},
   "outputs": [
    {
     "name": "stdout",
     "output_type": "stream",
     "text": [
      "  X          Y         clos_centr  dis_a      dis_b      dis_c\n",
      "[[1.         2.         1.         3.16227766 5.         6.70820393]\n",
      " [2.         1.         1.         2.82842712 5.         6.40312424]\n",
      " [2.         3.         1.         2.         3.60555128 5.38516481]\n",
      " [3.         2.         1.         1.41421356 3.60555128 5.        ]\n",
      " [7.         2.         3.         3.16227766 3.60555128 3.        ]\n",
      " [8.         1.         3.         4.47213595 5.         4.12310563]\n",
      " [8.         3.         3.         4.         3.60555128 2.23606798]\n",
      " [9.         2.         3.         5.09901951 5.         3.60555128]\n",
      " [1.         8.         2.         5.83095189 5.         6.70820393]\n",
      " [2.         7.         2.         4.47213595 3.60555128 5.38516481]\n",
      " [2.         9.         2.         6.32455532 5.         6.40312424]\n",
      " [3.         8.         2.         5.09901951 3.60555128 5.        ]]\n"
     ]
    }
   ],
   "source": [
    "#measure closest centroid and assigns to array\n",
    "#closest centroid a=1, b=2, c=3\n",
    "\n",
    "def closest_centroid():\n",
    "    for counter_array, value in enumerate(array):\n",
    "        distance_a = value[3]\n",
    "        distance_b = value[4]\n",
    "        distance_c = value[5]\n",
    "    \n",
    "        if distance_a < distance_b and distance_a < distance_c:\n",
    "            value[2] = 1\n",
    "            \n",
    "        elif distance_b < distance_a and distance_b < distance_c:\n",
    "            value[2] = 2\n",
    "            \n",
    "        elif distance_c < distance_b and distance_c < distance_a:\n",
    "            value[2] = 3\n",
    "        \n",
    "        else:\n",
    "            print(\"Error: zwei gleiche Abstände bei Punkt \" + str(counter_array +1))\n",
    "        \n",
    "closest_centroid()     \n",
    "print(\"  X          Y         clos_centr  dis_a      dis_b      dis_c\")\n",
    "print(array)"
   ]
  },
  {
   "cell_type": "code",
   "execution_count": 237,
   "metadata": {},
   "outputs": [
    {
     "data": {
      "image/png": "[encoded data removed]",
      "text/plain": [
       "<Figure size 432x288 with 1 Axes>"
      ]
     },
     "metadata": {
      "needs_background": "light"
     },
     "output_type": "display_data"
    }
   ],
   "source": [
    "#für die centroiden werden die x und y koordinaten der zugehörigen punkte addiert und durch die Anzahl der zugeordneten Punkte geteilt\n",
    "def reassign_centroid():\n",
    "    \n",
    "    #läuft durch das array, sammelt alle daten und speichert diese temporär ab\n",
    "    for counter_array, value in enumerate(array):\n",
    "       \n",
    "        if value[2] == 1:\n",
    "            a.counter += 1\n",
    "            a.score_x += value[0]\n",
    "            a.score_y += value[1]\n",
    "            \n",
    "        elif value[2] == 2:\n",
    "            b.counter += 1\n",
    "            b.score_x += value[0]\n",
    "            b.score_y += value[1]\n",
    "            \n",
    "        elif value[2] == 3:\n",
    "            c.counter += 1\n",
    "            c.score_x += value[0]\n",
    "            c.score_y += value[1]\n",
    "        \n",
    "    #berechnung der neuen werte        \n",
    "    a.x = a.score_x / a.counter\n",
    "    a.y = a.score_y / a.counter\n",
    "    b.x = b.score_x / b.counter\n",
    "    b.y = b.score_y / b.counter\n",
    "    c.x = c.score_x / c.counter\n",
    "    c.y = c.score_y / c.counter\n",
    "    \n",
    "   \n",
    "    #setzt die temporären daten wieder zurück\n",
    "    a.counter = 0\n",
    "    a.score_x = 0\n",
    "    a.score_y = 0\n",
    "    b.counter = 0\n",
    "    b.score_x = 0\n",
    "    b.score_y = 0\n",
    "    c.counter = 0\n",
    "    c.score_x = 0\n",
    "    c.score_y = 0\n",
    "\n",
    "plt.figure()\n",
    "reassign_centroid()\n",
    "\n",
    "\n",
    "plot_array()\n",
    "plt.show()\n",
    "\n"
   ]
  },
  {
   "cell_type": "code",
   "execution_count": null,
   "metadata": {},
   "outputs": [],
   "source": []
  }
 ],
 "metadata": {
  "kernelspec": {
   "display_name": "Python 3",
   "language": "python",
   "name": "python3"
  },
  "language_info": {
   "codemirror_mode": {
    "name": "ipython",
    "version": 3
   },
   "file_extension": ".py",
   "mimetype": "text/x-python",
   "name": "python",
   "nbconvert_exporter": "python",
   "pygments_lexer": "ipython3",
   "version": "3.7.3"
  }
 },
 "nbformat": 4,
 "nbformat_minor": 2
}
