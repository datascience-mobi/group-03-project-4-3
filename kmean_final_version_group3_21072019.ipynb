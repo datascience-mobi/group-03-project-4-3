{
 "cells": [
  {
   "cell_type": "markdown",
   "metadata": {},
   "source": [
    "# Project 04: k-means Clustering\n",
    "#### created by group number 3:\n",
    "#### Marvin Mayer, Yvonne Sokolowski, Fabian Krämer and Alisa Mazur\n"
   ]
  },
  {
   "cell_type": "markdown",
   "metadata": {},
   "source": [
    "This Jupyter Notebook is divided into different parts containing all the code used for the \"Project 04: k-means Clustering\" of group nr. 3.\n",
    "\n",
    "1. Loading Data<br/>\n",
    "    1.1 Initialize array with random values<br/>\n",
    "    1.2 Initialize array through PCA<br/> <br/>\n",
    "2. Initialization of centroids<br/>\n",
    "    2.1 Initialize with random data points<br/>\n",
    "    2.2 Initialize with mean++ algorithm<br/> <br/>\n",
    "3. Plotting of the data points and centroids\n",
    "4. Functions for k-mean run through\n",
    "5. mini-batch algorithm<br/><br/>\n",
    "6. Methods for evaluation<br/>\n",
    "    6.1 Elbow method<br/>\n",
    "    6.2 Evaluation with the silhouette plot<br/> <br/>\n",
    "7. Comparison with sckitlearning variants<br/>\n",
    "    7.1 k-mean with random initialization<br/>\n",
    "    7.2 k-mean with mean++ initialization<br/>\n",
    "    7.3 mini-batch with random initialization<br/>\n",
    "    7.4 mini-batch with mean++ initialization<br/> <br/>\n",
    "8. Main function "
   ]
  },
  {
   "cell_type": "markdown",
   "metadata": {},
   "source": [
    "### Import all the necessarry packages"
   ]
  },
  {
   "cell_type": "code",
   "execution_count": 177,
   "metadata": {},
   "outputs": [],
   "source": [
    "#Packages needed for our code\n",
    "import numpy as np\n",
    "import random \n",
    "import matplotlib.pyplot as plt\n",
    "import math\n",
    "import copy\n",
    "import time\n",
    "from sklearn.decomposition import PCA\n",
    "import scanpy as sc\n",
    "\n",
    "#For comparison\n",
    "from sklearn.cluster import KMeans\n",
    "from sklearn.cluster import MiniBatchKMeans"
   ]
  },
  {
   "cell_type": "markdown",
   "metadata": {},
   "source": [
    "## 1.) Loading data"
   ]
  },
  {
   "cell_type": "markdown",
   "metadata": {},
   "source": [
    "### 1.1.) Initialize array with random values"
   ]
  },
  {
   "cell_type": "markdown",
   "metadata": {},
   "source": [
    "The following code is used to generate random data points for testing purpose. The function builds a specific number of data points for a given number of clusters around a random middle point. Additionally you can specify in the `main()` function the distribution the points should have around the center. "
   ]
  },
  {
   "cell_type": "code",
   "execution_count": 203,
   "metadata": {},
   "outputs": [],
   "source": [
    "def init_array_random(array, cluster_guessed, number_of_points, distribution):\n",
    "    \n",
    "    #generate x-values\n",
    "    data_x_cluster = []\n",
    "    for counter_cluster in range(0, cluster_guessed):\n",
    "        \n",
    "        middle = random.uniform(0,100)\n",
    "        print(\"X-value of perfect centroid nr.\" + str(counter_cluster+1) + \" is: \" + str(middle))\n",
    "        left = middle - distribution\n",
    "        right = middle + distribution\n",
    "        \n",
    "        for i in range(0, number_of_points):\n",
    "            temp = random.uniform(left, right)\n",
    "            data_x_cluster.append(temp)\n",
    "         \n",
    "    #generate y-values\n",
    "    data_y_cluster = []\n",
    "    for counter_cluster in range(0, cluster_guessed):\n",
    "        \n",
    "        middle = random.uniform(0, 100)\n",
    "        print(\"Y-value of perfect centroid nr.\" + str(counter_cluster+1) + \" is: \" + str(middle))\n",
    "        down = middle - distribution\n",
    "        top = middle + distribution\n",
    "        \n",
    "        for i in range(0, number_of_points):\n",
    "            temp = random.uniform(down, top)\n",
    "            data_y_cluster.append(temp)\n",
    "    \n",
    "    #go through both lists and write the values into the array\n",
    "    i = 0\n",
    "    for counter_array, row in enumerate(array):\n",
    "        row[0] = data_x_cluster[i]\n",
    "        row[1] = data_y_cluster[i]\n",
    "        i += 1\n",
    "    \n",
    "    #randomize array for mini-batch\n",
    "    np.random.shuffle(array)\n",
    "        \n",
    "    return array"
   ]
  },
  {
   "cell_type": "markdown",
   "metadata": {},
   "source": [
    "## 1.2.) Initialize array through PCA "
   ]
  },
  {
   "cell_type": "markdown",
   "metadata": {},
   "source": [
    "This function will return an array with the needed size containing the \"3K PBMCs from a Healthy Donor Dataset\" from 10x Genomics. The file has been downloaded and saved in the folder \"Data Analysis\" previously. "
   ]
  },
  {
   "cell_type": "code",
   "execution_count": 179,
   "metadata": {},
   "outputs": [],
   "source": [
    "#load data through PCA and return the array containing all the points\n",
    "def load_data_through_PCA(k_mean):\n",
    "    \n",
    "    #read the data\n",
    "    adata = sc.read_10x_mtx(\n",
    "        r'C:\\Users\\user\\Desktop\\Data Analysis\\filtered_gene_bc_matrices\\hg19', \n",
    "        var_names='gene_symbols', # use gene symbols for the variable names (variables-axis index)\n",
    "        cache=True)   \n",
    "\n",
    "    x = adata._X.todense()\n",
    "\n",
    "    p = PCA(n_components = 2)\n",
    "    p.fit(x)\n",
    "    x_transformed = p.transform(x)\n",
    "    \n",
    "    down, side = x_transformed.shape\n",
    "\n",
    "    #initialize array\n",
    "    array = np.zeros((down, k_mean + 3))\n",
    "    \n",
    "    i = 0\n",
    "    for counter_array, row in enumerate(array):\n",
    "        row[0] = x_transformed[i, 0]\n",
    "        row[1] = x_transformed[i, 1]\n",
    "        i += 1\n",
    "        \n",
    "    return array"
   ]
  },
  {
   "cell_type": "markdown",
   "metadata": {},
   "source": [
    "# 2.) Initialization of centroids "
   ]
  },
  {
   "cell_type": "markdown",
   "metadata": {},
   "source": [
    "### 2.1.) Initialize with random data points"
   ]
  },
  {
   "cell_type": "markdown",
   "metadata": {},
   "source": [
    "Initialize centroids by picking the x- and y- values of random data points."
   ]
  },
  {
   "cell_type": "code",
   "execution_count": 180,
   "metadata": {},
   "outputs": [],
   "source": [
    "def init_centroids_random(array, centroids):\n",
    "    down, wide = array.shape\n",
    "    counter_number = 1\n",
    "    for counter, row in enumerate(centroids):\n",
    "        point = int(random.uniform(0, down-1))\n",
    "        row[0] = array[point, 0]\n",
    "        row[1] = array[point, 1]\n",
    "        row[7] = counter_number\n",
    "        counter_number += 1\n",
    "        \n",
    "    return centroids"
   ]
  },
  {
   "cell_type": "markdown",
   "metadata": {},
   "source": [
    "### 2.2.) Initialize with mean++ algorithm"
   ]
  },
  {
   "cell_type": "markdown",
   "metadata": {},
   "source": [
    "The algorithm works as follows:\n",
    "1. Choose one center uniformly from among the data points.\n",
    "2. For each data point x, compute D(x), distance between x and the nearest center that has already been chosen.\n",
    "3. Choose one new data point at random as new center, using a weighted probability distribution where a point x is chosen with probability proportional to D(x)².\n",
    "4. Repeat Steps 2 and 3 until k centers have been chosen."
   ]
  },
  {
   "cell_type": "code",
   "execution_count": 181,
   "metadata": {},
   "outputs": [],
   "source": [
    "#take maxixmum score of weighted distances² as a new centroid point\n",
    "def new_centroid(array_copy, counter_already_chosen, centroids):\n",
    "    \n",
    "    #get the max. distance\n",
    "    max_list = np.argmax(array_copy, axis=0)\n",
    "    row = max_list[3]\n",
    "    centroids[counter_already_chosen, 0] = array_copy[row, 0]\n",
    "    centroids[counter_already_chosen, 1] = array_copy[row, 1]\n",
    "    return centroids\n",
    "    \n",
    "#compute weighted distance   \n",
    "def sum_up_and_weight(array_copy):\n",
    "    \n",
    "    sum_distance = 0\n",
    "    #sum up distances \n",
    "    for counter_array, row in enumerate(array_copy):\n",
    "        sum_distance += row[3]\n",
    "    \n",
    "    sum_distance_square = sum_distance**2\n",
    "        \n",
    "    #weightens distance\n",
    "    for counter_array, row in enumerate(array_copy):\n",
    "        row[3] = row[3] / sum_distance_square\n",
    "        \n",
    "    return array_copy\n",
    "    \n",
    "    \n",
    "#measures distance between a data x-/ y-value and centroid x-/ y-value and returns distance²\n",
    "def distance_to_point_square(x, y, x_centroid, y_centroid):\n",
    "    \n",
    "    del_x = x-x_centroid \n",
    "    del_y = y-y_centroid\n",
    "    del_x = -del_x if del_x<0 else del_x\n",
    "    del_y = -del_y if del_y<0 else del_y\n",
    "    distance = del_x**2 + del_y**2\n",
    "        \n",
    "    return distance\n",
    "\n",
    "#measure distance to each centroid and remember closest centroid + distance²\n",
    "def measure_distance_and_centroid(array_copy, centroids):\n",
    "    for counter_array, row in enumerate(array_copy):\n",
    "\n",
    "        #measure distance to each centroid\n",
    "        for counter_centroid, value in enumerate(centroids):\n",
    "            distance_square = distance_to_point_square(row[0], row[1], value[0], value[1])\n",
    "            value[2] = distance_square\n",
    "            \n",
    "        #get index of closest centroid and write it into array + distance\n",
    "        min_list = np.argmin(centroids, axis=0)\n",
    "        \n",
    "        #min_list[2] = point of the closest centroid\n",
    "        #min_list[1] = is the same point as referred\n",
    "        row[2] = centroids[min_list[2], 7]\n",
    "        row[3] = centroids[min_list[2], 2]\n",
    "        \n",
    "    return array_copy\n",
    "\n",
    "\n",
    "#initialization of centroids with mean++ algorithm\n",
    "def init_centroids_mean(array, centroids, k_mean):    \n",
    "   \n",
    "    #take first centroid randomly from dataset\n",
    "    max_number, temp = array.shape\n",
    "    max_number -= 1\n",
    "    first = random.randint(0, max_number)\n",
    "    centroids[0, 0] = array[first, 0]\n",
    "    centroids[0, 1] = array[first, 1]\n",
    "    \n",
    "    array_copy = copy.deepcopy(array)\n",
    "    #because we only need x , y , closest centroid, distance²/ weighted distance² for the array:\n",
    "    #splice array to get the first 4 columns of every data point\n",
    "    array_copy = array_copy[:,:4]\n",
    "\n",
    "    #write the number of the centroids into the array of centroids\n",
    "    counter_number = 1\n",
    "    for counter, row in enumerate(centroids):\n",
    "        row[7] = counter_number\n",
    "        counter_number += 1\n",
    "     \n",
    "    counter_already_chosen = 1\n",
    "\n",
    "    #do the mean++ algorithm until all of the centroids are assigned to one data point\n",
    "    while counter_already_chosen < k_mean:\n",
    "        \n",
    "        measure_distance_and_centroid(array_copy, centroids)\n",
    "        sum_up_and_weight(array_copy)\n",
    "        new_centroid(array_copy, counter_already_chosen, centroids)\n",
    "        \n",
    "        counter_already_chosen += 1\n",
    "    \n",
    "    #reset values occupied in centroids\n",
    "    for counter, row in enumerate(centroids):\n",
    "        row[2] = 0\n",
    "    \n",
    "    return centroids"
   ]
  },
  {
   "cell_type": "markdown",
   "metadata": {},
   "source": [
    "## 3.) Plotting of the data points and centroids"
   ]
  },
  {
   "cell_type": "markdown",
   "metadata": {},
   "source": [
    "A function which plots all data points and centroids. The data points are coloured in the same colour as their closest centroid."
   ]
  },
  {
   "cell_type": "code",
   "execution_count": 182,
   "metadata": {},
   "outputs": [],
   "source": [
    "def plot_array_and_centroids(array, centroids):\n",
    "    \n",
    "    #label plot\n",
    "    plt.xlabel('X-value')\n",
    "    plt.ylabel('Y-value')\n",
    "    \n",
    "    #dictionairy for colours \n",
    "    dictionairy = {0 : 'black',\n",
    "                   1 : 'darkblue', \n",
    "                   2 : 'darkorange', \n",
    "                   3 : 'darkgreen', \n",
    "                   4 : 'darkgrey', \n",
    "                   5 : 'aqua', \n",
    "                   6 : 'lime', \n",
    "                   7 : 'steelblue',\n",
    "                   8 : 'brown', \n",
    "                   9 : 'fuchsia', \n",
    "                  10 : 'gold'}\n",
    "    \n",
    "    #plot data points with the colour of their closest centroid\n",
    "    for counter, value in enumerate(array):\n",
    "        wert = value[2]\n",
    "        farbe = dictionairy[wert]\n",
    "        plt.plot(value[0],value[1], marker = 'o', color = farbe, markersize=3)\n",
    "       \n",
    "    \n",
    "    #plot centroids    \n",
    "    for counter_centroids, row in enumerate(centroids):\n",
    "        wert = row[7]\n",
    "        farbe = dictionairy[wert]\n",
    "        plt.plot(row[0],row[1], marker = 'x', color = farbe, markersize=7, markerfacecolor = 'k', markeredgewidth=1.5)\n",
    "        \n",
    "    plt.show()"
   ]
  },
  {
   "cell_type": "markdown",
   "metadata": {},
   "source": [
    "# 4.) Functions for k-mean run through"
   ]
  },
  {
   "cell_type": "markdown",
   "metadata": {},
   "source": [
    "Measure the distance of a x-/ y-value of a data point and the x-/ y-value of a centroid."
   ]
  },
  {
   "cell_type": "code",
   "execution_count": 183,
   "metadata": {},
   "outputs": [],
   "source": [
    "def distance_to_point(x, y, x_centroid, y_centroid):\n",
    "    \n",
    "    del_x = x-x_centroid \n",
    "    del_y = y-y_centroid   \n",
    "    del_x = -del_x if del_x<0 else del_x\n",
    "    del_y = -del_y if del_y<0 else del_y\n",
    "    \n",
    "    distance = math.sqrt(del_x**2 + del_y**2)\n",
    "    \n",
    "    return distance"
   ]
  },
  {
   "cell_type": "markdown",
   "metadata": {},
   "source": [
    "Measures for every data point the distance to every centroid and writes it into array."
   ]
  },
  {
   "cell_type": "code",
   "execution_count": 184,
   "metadata": {},
   "outputs": [],
   "source": [
    "def measure_distance(array, centroids):\n",
    "    \n",
    "    for counter_array, row_array in enumerate(array):\n",
    "        for counter_centroids, row_centroids in enumerate(centroids):\n",
    "            \n",
    "            #measure distance\n",
    "            row_array[counter_centroids + 3] = distance_to_point(row_array[0], row_array[1], row_centroids[0], row_centroids[1])\n",
    "            \n",
    "    return array"
   ]
  },
  {
   "cell_type": "markdown",
   "metadata": {},
   "source": [
    "Define the closest centroid of each data point by comparing the distances to the centroids."
   ]
  },
  {
   "cell_type": "code",
   "execution_count": 185,
   "metadata": {},
   "outputs": [],
   "source": [
    "def closest_centroid(array, k_mean):\n",
    "    #deep copy of array\n",
    "    array_copy = copy.deepcopy(array)\n",
    "    \n",
    "    height, distance_count = array_copy.shape\n",
    "    #slicing array, so only distances are in new array\n",
    "    #with only the columns of the distances (from 3 until the number of centroids analyzed)\n",
    "    array_copy = array_copy[:,3:k_mean+3]\n",
    "    \n",
    "    height, distance_count = array_copy.shape\n",
    "    #if the observed centroid is the closest one, write the corresponding number into array\n",
    "    while distance_count != 0:\n",
    "        for counter_array, row in enumerate(array_copy):\n",
    "            if row[distance_count-1] == min(row):\n",
    "                array[counter_array, 2] = distance_count\n",
    "        \n",
    "        distance_count -= 1\n",
    " \n",
    "    return array"
   ]
  },
  {
   "cell_type": "markdown",
   "metadata": {},
   "source": [
    "This function is needed for the reassigning of the centroids. It sums up the x-/ y-values to their closest centroid as well as increasing the counter in the centroid array."
   ]
  },
  {
   "cell_type": "code",
   "execution_count": 186,
   "metadata": {},
   "outputs": [],
   "source": [
    "def gather_values_from_array(array, centroids):\n",
    "    for counter_array, value in enumerate(array):\n",
    "        \n",
    "        k = int(value[2]) - 1\n",
    "        centroids[k,4] += 1\n",
    "        centroids[k,5] += value[0]\n",
    "        centroids[k,6] += value[1]\n",
    "        \n",
    "    return array"
   ]
  },
  {
   "cell_type": "markdown",
   "metadata": {},
   "source": [
    "Reassigning the centroids by dividing the x-/ y-values of one centroid through the sum of x-/ y-values of all to this centroid assigned data points."
   ]
  },
  {
   "cell_type": "code",
   "execution_count": 187,
   "metadata": {},
   "outputs": [],
   "source": [
    " def reassign_centroid(array, centroids):\n",
    "\n",
    "    gather_values_from_array(array, centroids)\n",
    "\n",
    "    for counter_centroids, row in enumerate(centroids):\n",
    "        #write old values into new spot\n",
    "        row[2] = row[0]\n",
    "        row[3] = row[1]\n",
    "        \n",
    "        #if there are points assigned to each centroid (counter != 0)\n",
    "        #the centroids are reassigned (new_x = score_x / counter)\n",
    "        if row[4] != 0:\n",
    "            new_x = row[5] / row[4]\n",
    "            new_y = row[6] / row[4]\n",
    "            row[0] = new_x\n",
    "            row[1] = new_y\n",
    "        \n",
    "        #resets values for the next reassign_centroid() / k-mean runthrough\n",
    "        row[4] = 0\n",
    "        row[5] = 0\n",
    "        row[6] = 0\n",
    "\n",
    "    return centroids"
   ]
  },
  {
   "cell_type": "markdown",
   "metadata": {},
   "source": [
    "In this function the evaluation of the change by the centroids is evaluated. By comparing the coordinates of the centroids before and after calling the function `reassing_centroid()`, the code is able to determine how many centroids have changed less than the `min_value`. If the change of all centroids is lower than the `min_value` the return statement will be true otherwise it will be false."
   ]
  },
  {
   "cell_type": "code",
   "execution_count": 188,
   "metadata": {},
   "outputs": [],
   "source": [
    "def evaluate_score(centroids, k_mean_for_init_centroids):   \n",
    "    \n",
    "    for counter_centroids, row in enumerate(centroids):\n",
    "        \n",
    "        #distance=old value-new value\n",
    "        distance_x = row[2]-row[0]\n",
    "        distance_y = row[3]-row[1]\n",
    "        \n",
    "        #absolute value  \n",
    "        distance_x = -distance_x if distance_x<0 else distance_x\n",
    "        distance_y = -distance_y if distance_y<0 else distance_y\n",
    "        distance = math.sqrt(distance_x**2 + distance_y**2)\n",
    "         \n",
    "        #for less than 0.0005 change in the distance of the centroid it writes true into collumn nr.8\n",
    "        min_value = 0.0005\n",
    "        if distance < min_value:\n",
    "            row[8] = 1 # == true\n",
    "        else: \n",
    "            row[8] =  0 # == false\n",
    "    \n",
    "    \n",
    "    #if the complete collumn nr.8 of the centroids is filled with 1\n",
    "    #the sum of the value those values must be euqal to k_mean in this run-through\n",
    "    summe = 0\n",
    "    \n",
    "    for counter_centroids, row in enumerate(centroids):\n",
    "        summe += row[8]\n",
    "    \n",
    "    if summe == k_mean_for_init_centroids:\n",
    "        return 1# == true\n",
    "    else:\n",
    "        return 0# == false"
   ]
  },
  {
   "cell_type": "markdown",
   "metadata": {},
   "source": [
    "# 5.) mini-batch algorithm\n",
    "The algorithm iterates between two major steps, similar to k-mean.\n",
    "1. In the first step, samples are drawn from the dataset, to form a mini-batch. These are then assigned to the nearest centroid\n",
    "2. In the second step, the centroids are updated. In contrast to k-mean, this is done on a per-sample basis. For each sample in the mini-batch, the assigned centroid is updated by taking the streaming average of the sample and all previous samples assigned to that centroid. This has the effect of decreasing the rate of change for a centroid over time. "
   ]
  },
  {
   "cell_type": "code",
   "execution_count": 201,
   "metadata": {},
   "outputs": [],
   "source": [
    "def function_mini_batch(array, centroids, k_mean_for_init_centroids, number_of_mini_batch):\n",
    "    \n",
    "    runter, breit = array.shape\n",
    "\n",
    "    #determine the size for each batch\n",
    "    if runter%number_of_mini_batch == 0:\n",
    "        per_batch = int(runter/number_of_mini_batch)    \n",
    "    else:\n",
    "        runter -= 1\n",
    "        per_batch = int(runter/number_of_mini_batch)\n",
    "\n",
    "    #counter is starting point the array for each batch\n",
    "    counter = 0\n",
    "       \n",
    "    #loop for mini-batch\n",
    "    for i in range (0, number_of_mini_batch):\n",
    "\n",
    "        #make batch out of the whole data set\n",
    "        array_copy = copy.deepcopy(array)\n",
    "        array_copy = array_copy[counter : counter+per_batch]    \n",
    "        \n",
    "        #for each data point, the closest centroid is measured\n",
    "        measure_distance(array_copy, centroids)            \n",
    "        closest_centroid(array_copy, k_mean_for_init_centroids)\n",
    "    \n",
    "        for counter_array, row in enumerate(array_copy):\n",
    "            \n",
    "            #update catched points for this centroid\n",
    "            closest_centroid_number = int(row[2]-1)\n",
    "            centroids[closest_centroid_number, 4] += 1\n",
    "            \n",
    "            #learning rate = 1 / number of already assigned data points for this centroid\n",
    "            learning_rate = 1 / centroids[closest_centroid_number, 4]\n",
    "        \n",
    "            #take gradient step: (1-learning rate) * current x/y-value of centroid + learning rate * new data point\n",
    "            centroids[closest_centroid_number, 0] = (1-learning_rate) * centroids[closest_centroid_number, 0] + learning_rate * row[0]\n",
    "            centroids[closest_centroid_number, 1] = (1-learning_rate) * centroids[closest_centroid_number, 1] + learning_rate * row[1]\n",
    "            \n",
    "            array[counter+counter_array, 2] = row[2]            \n",
    "            \n",
    "            \n",
    "        #sum up counter for next batch run through\n",
    "        counter += per_batch\n",
    "\n",
    "    return array, centroids"
   ]
  },
  {
   "cell_type": "markdown",
   "metadata": {},
   "source": [
    "# 6.) Methods for evaluation"
   ]
  },
  {
   "cell_type": "markdown",
   "metadata": {},
   "source": [
    "## 6.1.) Elbow method\n",
    "Evaluation of the run through with the elbow method. The function sums up the total sum of square (TSS) of each centroid and returns this value."
   ]
  },
  {
   "cell_type": "code",
   "execution_count": 190,
   "metadata": {
    "scrolled": false
   },
   "outputs": [],
   "source": [
    "def evaluate_score_for_elbow(array, centroids):\n",
    "    \n",
    "    for counter_centroids, row_centroids in enumerate(centroids):\n",
    "        for counter_array, row_array in enumerate(array):\n",
    "            \n",
    "            #if the number of the current centroid is the closest centroid of this point\n",
    "            if row_centroids[7] == row_array[2]:\n",
    "                \n",
    "                #measure the distance of this point and the centroid and add the TSS in the centroid array\n",
    "                row_centroids[4] += distance_to_point_square(row_array[0], row_array[1], row_centroids[0], row_centroids[1])\n",
    "                \n",
    "    #sum up the TSS of all centroids\n",
    "    sum_TSS = 0\n",
    "    for counter, row in enumerate(centroids):\n",
    "        sum_TSS += row[4]\n",
    "        \n",
    "        #reset the place in the centroid array for next run through\n",
    "        row[4] = 0\n",
    "    \n",
    "    return sum_TSS"
   ]
  },
  {
   "cell_type": "markdown",
   "metadata": {},
   "source": [
    "## 6.2.) Evaluation with the silhouette plot\n",
    "The silhouette plot compares the distances of each data point of one centroid towards the distance of the closest centroids and their respective data points to form the value for `s_i`.\n",
    "`a_i` describes the sum of distances from one centroid to every to this centroid assigned data points through the number of points assigned to it.\n",
    "`b_i` takes a look at the closest centroid next to the one analyzed in this cycle and calculates the sum of distances to this centroid assigned data points.\n",
    "The calculation of `s_i` depends on which value - `a_i` or `b_i` - is bigger, so a value between 0 and 1 is calculated and returned to the main function."
   ]
  },
  {
   "cell_type": "code",
   "execution_count": 191,
   "metadata": {},
   "outputs": [],
   "source": [
    "#function to get the number of the centroid out of a tupel\n",
    "def getKey(item):\n",
    "    return item[1]\n",
    "\n",
    "#evaluation of graph through silhouette plot\n",
    "def silhouette_evaluation(array, centroids, k_mean):\n",
    "    \n",
    "    #list of s_i values for all the centroids\n",
    "    list_of_values_s_i = []\n",
    "    \n",
    "    for counter_centroids, row_centroids in enumerate(centroids):\n",
    "        \n",
    "        #initialize the values needed for a_i\n",
    "        counter_data_per_centroid = 0\n",
    "        summe = 0\n",
    "        \n",
    "        #go through each data point\n",
    "        for counter_array, row_array in enumerate(array):\n",
    "            \n",
    "            #if the number of the centroid is equal to the closest centroid:\n",
    "            #add the number of counts and sum up the distance of each point\n",
    "            if counter_centroids+1 == row_array[2]:\n",
    "                \n",
    "                counter_data_per_centroid += 1\n",
    "                summe += distance_to_point(row_centroids[0], row_centroids[1], row_array[0], row_array[1])\n",
    "\n",
    "        #calculate a_i\n",
    "        try:\n",
    "            a_i = summe/counter_data_per_centroid\n",
    "        except: #if nor points are assigned to this centroid\n",
    "            a_i = 0\n",
    "        \n",
    "        list_for_b_i = []\n",
    "\n",
    "        #if there are more than one centroid, run the following code\n",
    "        if k_mean > 1:\n",
    "            for i in range(0, k_mean):\n",
    "                \n",
    "                #if the analyzed centroid is different from the current centroid\n",
    "                if row_centroids[0] != centroids[i, 0] and row_centroids[1] != centroids[i, 1]: \n",
    "                    \n",
    "                    #measure distance between centroids and append list\n",
    "                    distance = distance_to_point(row_centroids[0], row_centroids[1], centroids[i, 0], centroids[i, 1])\n",
    "                    list_for_b_i.append((distance, i))\n",
    "            \n",
    "            #get index of closest centroid and write it into array + distance\n",
    "            min_list = sorted(list_for_b_i, key=getKey)\n",
    "            \n",
    "            #determine smallest value and remeber the number of the centroid\n",
    "            smallest_value, nummer_centroid = min_list[0]\n",
    "        \n",
    "            #measure all the distances of b_i\n",
    "            counter_data_per_centroid = 0\n",
    "            summe = 0 \n",
    "            \n",
    "            #for each data point\n",
    "            #if the data point goes with the closest centroid, measure the distance and sum it up\n",
    "            for counter_array, row_array in enumerate(array):\n",
    "                if nummer_centroid+1 == row_array[2]:\n",
    "                    counter_data_per_centroid += 1\n",
    "                    summe += distance_to_point(row_centroids[0], row_centroids[1], row_array[0], row_array[1])\n",
    "                \n",
    "            #calculate b_i\n",
    "            try:\n",
    "                b_i = summe/counter_data_per_centroid\n",
    "            except: #if nor points are assigned to this centroid\n",
    "                b_i = 0\n",
    "\n",
    "            #the evaluation of s_i is determend by the value of a_i and b_i\n",
    "            try:\n",
    "                if a_i > b_i:\n",
    "                    s_i = (b_i - a_i) / a_i\n",
    "                else:\n",
    "                    s_i = (b_i - a_i) / b_i\n",
    "            except:\n",
    "                s_i = 0\n",
    "            list_of_values_s_i.append(s_i)\n",
    "        else:\n",
    "            list_of_values_s_i.append(1)\n",
    "    \n",
    "    #determine the value for all centroids and give the value back \n",
    "    sum_s_i = 0\n",
    "    for i in range(0, len(list_of_values_s_i)):\n",
    "        sum_s_i += list_of_values_s_i[i]\n",
    "\n",
    "    final_value = sum_s_i / len(list_of_values_s_i)\n",
    "    \n",
    "    return final_value"
   ]
  },
  {
   "cell_type": "markdown",
   "metadata": {},
   "source": [
    "# 7.) Comparison with sckitlearning variants\n",
    "## 7.1.) k-mean with random initialization\n",
    "K-mean run through of sckitlearning variant with random initialization of centroids."
   ]
  },
  {
   "cell_type": "code",
   "execution_count": 192,
   "metadata": {},
   "outputs": [],
   "source": [
    "def k_mean_with_random_init_sckitlearning(array, centroids, k_mean_for_init_centroids):\n",
    "\n",
    "    x_transformedx = array[:,0:2]\n",
    "    model = KMeans(n_clusters = k_mean_for_init_centroids, init='random').fit(x_transformedx)\n",
    "\n",
    "    labels = model.labels_\n",
    "    j = 0\n",
    "    for counter, row in enumerate(x_transformedx):\n",
    "        array[counter, 0] = row[0]\n",
    "        array[counter, 1] = row[1]\n",
    "        array[counter, 2] = labels[j]+1\n",
    "        j += 1\n",
    "    \n",
    "    cluster = model.cluster_centers_\n",
    "    \n",
    "    for counter, row in enumerate(cluster):\n",
    "        centroids[counter, 0] = row[0]\n",
    "        centroids[counter, 1] = row[1]\n",
    "\n",
    "    return array, centroids"
   ]
  },
  {
   "cell_type": "markdown",
   "metadata": {},
   "source": [
    "## 7.2.) k-mean with mean++ initialization\n",
    "K-mean run through of sckitlearning variant with centroids initialized with the mean++ algorithm."
   ]
  },
  {
   "cell_type": "code",
   "execution_count": 193,
   "metadata": {},
   "outputs": [],
   "source": [
    "def k_mean_with_meansplusplus_init_sckitlearning(array, centroids, k_mean_for_init_centroids):\n",
    "    \n",
    "    x_transformedx = array[:,0:2]\n",
    "    model = KMeans(n_clusters = k_mean_for_init_centroids, init='k-means++').fit(x_transformedx)\n",
    "\n",
    "    labels = model.labels_\n",
    "    j = 0\n",
    "    for counter, row in enumerate(x_transformedx):\n",
    "        array[counter, 0] = row[0]\n",
    "        array[counter, 1] = row[1]\n",
    "        array[counter, 2] = labels[j]+1\n",
    "        j += 1\n",
    "    \n",
    "    cluster = model.cluster_centers_\n",
    "    \n",
    "    for counter, row in enumerate(cluster):\n",
    "        centroids[counter, 0] = row[0]\n",
    "        centroids[counter, 1] = row[1]\n",
    "\n",
    "    return array, centroids"
   ]
  },
  {
   "cell_type": "markdown",
   "metadata": {},
   "source": [
    "## 7.3.) mini-batch with random initialization\n",
    "mini-batch run through of sckitlearning variant with random initialization of centroids."
   ]
  },
  {
   "cell_type": "code",
   "execution_count": 194,
   "metadata": {},
   "outputs": [],
   "source": [
    "def mini_batch_with_random_init_sckitlearning(array, centroids, k_mean_for_init_centroids, number_of_mini_batch):\n",
    "    \n",
    "    x_transformedx = array[:,0:2]\n",
    "    model = MiniBatchKMeans(n_clusters=k_mean_for_init_centroids, init='random', batch_size=number_of_mini_batch).fit(x_transformedx)\n",
    "\n",
    "    labels = model.labels_\n",
    "    j = 0\n",
    "    for counter, row in enumerate(x_transformedx):\n",
    "        array[counter, 0] = row[0]\n",
    "        array[counter, 1] = row[1]\n",
    "        array[counter, 2] = labels[j]+1\n",
    "        j += 1\n",
    "    \n",
    "    cluster = model.cluster_centers_\n",
    "    \n",
    "    for counter, row in enumerate(cluster):\n",
    "        centroids[counter, 0] = row[0]\n",
    "        centroids[counter, 1] = row[1]\n",
    "\n",
    "    return array, centroids"
   ]
  },
  {
   "cell_type": "markdown",
   "metadata": {},
   "source": [
    "## 7.4.) mini-batch with mean++ initialization\n",
    "mini-batch run through of sckitlearning variant with centroids initialized with the mean++ algorithm."
   ]
  },
  {
   "cell_type": "code",
   "execution_count": 195,
   "metadata": {},
   "outputs": [],
   "source": [
    "def mini_batch_with_meansplusplus_init_sckitlearning(array, centroids, k_mean_for_init_centroids, number_of_mini_batch):\n",
    "    \n",
    "    x_transformedx = array[:,0:2]\n",
    "    model = MiniBatchKMeans(n_clusters=k_mean_for_init_centroids, init='k-means++', batch_size=number_of_mini_batch).fit(x_transformedx)\n",
    "\n",
    "    labels = model.labels_\n",
    "    j = 0\n",
    "    for counter, row in enumerate(x_transformedx):\n",
    "        array[counter, 0] = row[0]\n",
    "        array[counter, 1] = row[1]\n",
    "        array[counter, 2] = labels[j]+1\n",
    "        j += 1\n",
    "    \n",
    "    cluster = model.cluster_centers_\n",
    "    \n",
    "    for counter, row in enumerate(cluster):\n",
    "        centroids[counter, 0] = row[0]\n",
    "        centroids[counter, 1] = row[1]\n",
    "\n",
    "    return array, centroids"
   ]
  },
  {
   "cell_type": "markdown",
   "metadata": {},
   "source": [
    "# 8.) Main function:\n",
    "Our main function consists of five parts: <br/>\n",
    "First we define the parameters needed for the initialization of the array containing the data points as well as different ways of initializing the array - random or through PCA.<br/>\n",
    "Afterwards the initialization of the centroids takes place. This is done by initializing through taking random data points or by the mean++ algorithm. <br/>\n",
    "Next up the code executes the k-mean or the miniBatch with different number of centroids (max. number of centroids is 10 otherwise it will result into an error in the `plot_array()` function). <br/>\n",
    "You can also choose the variants of the sckitlearning methods for comparison for one run through. If you do so, don't forget to disable the function/ parameter for the run through of our own written code of k-mean and mini-batch. <br/>\n",
    "Afterwards the time for one run through is being measured as well as different functions for the evaluation will be applied.\n"
   ]
  },
  {
   "cell_type": "code",
   "execution_count": 204,
   "metadata": {},
   "outputs": [
    {
     "name": "stdout",
     "output_type": "stream",
     "text": [
      "X-value of perfect centroid nr.1 is: 26.379330394913215\n",
      "X-value of perfect centroid nr.2 is: 58.59741458444259\n",
      "X-value of perfect centroid nr.3 is: 72.78658194276116\n",
      "X-value of perfect centroid nr.4 is: 88.51281209804391\n",
      "X-value of perfect centroid nr.5 is: 12.099568673363127\n",
      "Y-value of perfect centroid nr.1 is: 75.19034793309038\n",
      "Y-value of perfect centroid nr.2 is: 21.86768173811985\n",
      "Y-value of perfect centroid nr.3 is: 50.43658664519414\n",
      "Y-value of perfect centroid nr.4 is: 18.48416687777039\n",
      "Y-value of perfect centroid nr.5 is: 91.91715568622837\n",
      "\n",
      "Time it took for the result for one run through with 2 centroids: 0.15451383590698242 seconds.\n",
      "\n",
      "Final Centroids after one run through:\n",
      "1. : 73.43417221007452 | 30.101699732406736\n",
      "2. : 19.02428667113766 | 83.58165934638467\n"
     ]
    },
    {
     "data": {
      "image/png": "[encoded data removed]",
      "text/plain": [
       "<Figure size 432x288 with 1 Axes>"
      ]
     },
     "metadata": {
      "needs_background": "light"
     },
     "output_type": "display_data"
    },
    {
     "name": "stdout",
     "output_type": "stream",
     "text": [
      "\n",
      "Time it took for the result for one run through with 3 centroids: 0.11426377296447754 seconds.\n",
      "\n",
      "Final Centroids after one run through:\n",
      "1. : 73.58814910435737 | 20.002157686836274\n",
      "2. : 19.02428667113766 | 83.58165934638467\n",
      "3. : 73.12621842150844 | 50.30078382354758\n"
     ]
    },
    {
     "data": {
      "image/png": "[encoded data removed]",
      "text/plain": [
       "<Figure size 432x288 with 1 Axes>"
      ]
     },
     "metadata": {
      "needs_background": "light"
     },
     "output_type": "display_data"
    },
    {
     "name": "stdout",
     "output_type": "stream",
     "text": [
      "\n",
      "Time it took for the result for one run through with 4 centroids: 0.1197669506072998 seconds.\n",
      "\n",
      "Final Centroids after one run through:\n",
      "1. : 73.12621842150844 | 50.30078382354758\n",
      "2. : 19.02428667113766 | 83.58165934638467\n",
      "3. : 88.77688760003484 | 18.45841067035907\n",
      "4. : 58.39941060868008 | 21.54590470331348\n"
     ]
    },
    {
     "data": {
      "image/png": "[encoded data removed]",
      "text/plain": [
       "<Figure size 432x288 with 1 Axes>"
      ]
     },
     "metadata": {
      "needs_background": "light"
     },
     "output_type": "display_data"
    },
    {
     "name": "stdout",
     "output_type": "stream",
     "text": [
      "\n",
      "Time it took for the result for one run through with 5 centroids: 0.1237328052520752 seconds.\n",
      "\n",
      "Final Centroids after one run through:\n",
      "1. : 88.77688760003484 | 18.45841067035907\n",
      "2. : 12.172518773266134 | 91.78651354203554\n",
      "3. : 73.12621842150844 | 50.30078382354758\n",
      "4. : 58.39941060868008 | 21.54590470331348\n",
      "5. : 25.87605456900921 | 75.37680515073394\n"
     ]
    },
    {
     "data": {
      "image/png": "[encoded data removed]",
      "text/plain": [
       "<Figure size 432x288 with 1 Axes>"
      ]
     },
     "metadata": {
      "needs_background": "light"
     },
     "output_type": "display_data"
    },
    {
     "name": "stdout",
     "output_type": "stream",
     "text": [
      "\n",
      "Time it took for the result for one run through with 6 centroids: 0.16350221633911133 seconds.\n",
      "\n",
      "Final Centroids after one run through:\n",
      "1. : 73.12621842150844 | 50.30078382354758\n",
      "2. : 10.665052412514488 | 92.61631238302378\n",
      "3. : 88.77688760003484 | 18.45841067035907\n",
      "4. : 58.39941060868008 | 21.54590470331348\n",
      "5. : 25.87605456900921 | 75.37680515073394\n",
      "6. : 13.872427648156266 | 90.85078293411271\n"
     ]
    },
    {
     "data": {
      "image/png": "[encoded data removed]",
      "text/plain": [
       "<Figure size 432x288 with 1 Axes>"
      ]
     },
     "metadata": {
      "needs_background": "light"
     },
     "output_type": "display_data"
    },
    {
     "name": "stdout",
     "output_type": "stream",
     "text": [
      "\n",
      "Time it took for the result for one run through with 7 centroids: 0.26601362228393555 seconds.\n",
      "\n",
      "Final Centroids after one run through:\n",
      "1. : 12.172518773266134 | 91.78651354203554\n",
      "2. : 88.77688760003484 | 18.45841067035907\n",
      "3. : 72.76110074504076 | 52.37505034847006\n",
      "4. : 58.39941060868008 | 21.54590470331348\n",
      "5. : 26.41231980795412 | 73.2101289106153\n",
      "6. : 73.45000202139477 | 48.46133992408806\n",
      "7. : 25.471503599278826 | 77.01131529678847\n"
     ]
    },
    {
     "data": {
      "image/png": "[encoded data removed]",
      "text/plain": [
       "<Figure size 432x288 with 1 Axes>"
      ]
     },
     "metadata": {
      "needs_background": "light"
     },
     "output_type": "display_data"
    },
    {
     "name": "stdout",
     "output_type": "stream",
     "text": [
      "\n",
      "Time it took for the result for one run through with 8 centroids: 0.20825433731079102 seconds.\n",
      "\n",
      "Final Centroids after one run through:\n",
      "1. : 12.172518773266134 | 91.78651354203554\n",
      "2. : 88.77688760003484 | 18.45841067035907\n",
      "3. : 72.76110074504076 | 52.37505034847006\n",
      "4. : 56.87543692943543 | 20.58039091384242\n",
      "5. : 26.41231980795412 | 73.2101289106153\n",
      "6. : 73.45000202139477 | 48.46133992408806\n",
      "7. : 25.471503599278826 | 77.01131529678847\n",
      "8. : 59.86362061422882 | 22.473555206922896\n"
     ]
    },
    {
     "data": {
      "image/png": "[encoded data removed]",
      "text/plain": [
       "<Figure size 432x288 with 1 Axes>"
      ]
     },
     "metadata": {
      "needs_background": "light"
     },
     "output_type": "display_data"
    },
    {
     "name": "stdout",
     "output_type": "stream",
     "text": [
      "\n",
      "Time it took for the result for one run through with 9 centroids: 0.2691650390625 seconds.\n",
      "\n",
      "Final Centroids after one run through:\n",
      "1. : 11.064434587532487 | 90.12181684577894\n",
      "2. : 88.77688760003484 | 18.45841067035907\n",
      "3. : 72.76110074504076 | 52.37505034847006\n",
      "4. : 56.87543692943543 | 20.58039091384242\n",
      "5. : 26.41231980795412 | 73.2101289106153\n",
      "6. : 73.45000202139477 | 48.46133992408806\n",
      "7. : 25.471503599278826 | 77.01131529678847\n",
      "8. : 59.86362061422882 | 22.473555206922896\n",
      "9. : 13.422060514625334 | 93.66372471015472\n"
     ]
    },
    {
     "data": {
      "image/png": "[encoded data removed]",
      "text/plain": [
       "<Figure size 432x288 with 1 Axes>"
      ]
     },
     "metadata": {
      "needs_background": "light"
     },
     "output_type": "display_data"
    },
    {
     "name": "stdout",
     "output_type": "stream",
     "text": [
      "\n",
      "Time it took for the result for one run through with 10 centroids: 0.29415273666381836 seconds.\n",
      "\n",
      "Final Centroids after one run through:\n",
      "1. : 25.036150120276485 | 74.22895228618016\n",
      "2. : 90.32667770583899 | 17.991183851761853\n",
      "3. : 72.76110074504076 | 52.37505034847006\n",
      "4. : 56.87543692943543 | 20.58039091384242\n",
      "5. : 10.665052412514488 | 92.61631238302378\n",
      "6. : 13.872427648156266 | 90.85078293411271\n",
      "7. : 73.45000202139477 | 48.46133992408806\n",
      "8. : 59.86362061422882 | 22.473555206922896\n",
      "9. : 86.9575687801777 | 19.0068943269732\n",
      "10. : 27.506457322431537 | 77.60499012310316\n"
     ]
    },
    {
     "data": {
      "image/png": "[encoded data removed]",
      "text/plain": [
       "<Figure size 432x288 with 1 Axes>"
      ]
     },
     "metadata": {
      "needs_background": "light"
     },
     "output_type": "display_data"
    },
    {
     "data": {
      "image/png": "[encoded data removed]",
      "text/plain": [
       "<Figure size 432x288 with 1 Axes>"
      ]
     },
     "metadata": {
      "needs_background": "light"
     },
     "output_type": "display_data"
    },
    {
     "data": {
      "image/png": "[encoded data removed]",
      "text/plain": [
       "<Figure size 432x288 with 1 Axes>"
      ]
     },
     "metadata": {
      "needs_background": "light"
     },
     "output_type": "display_data"
    }
   ],
   "source": [
    "def main():\n",
    "    \n",
    "    #define the starting point of analyzed clusters\n",
    "    k_mean_start_point = k_mean_for_init_centroids = 2\n",
    "    \n",
    "    #define the end point of analyzed clusters\n",
    "    k_mean_max = 10\n",
    "    \n",
    "    #how many cluster should data have\n",
    "    cluster_guessed = 5\n",
    "\n",
    "    #distribution of points around 1 cluster\n",
    "    distribution = 4\n",
    "\n",
    "    #number of points each cluster should have\n",
    "    number_of_points = 100\n",
    "    \n",
    "    #how many mini batches? --> for mini-batch (own version and sckitlearning version)\n",
    "    number_of_mini_batch = 5\n",
    "\n",
    "    #create array of data points\n",
    "    #style: cluster_guess + 3 dimension because: x-value, y-value, the closest centroid, distance to centroids, ....\n",
    "    array = np.zeros((cluster_guessed*number_of_points, k_mean_max + 3))\n",
    "\n",
    "    \"\"\"\"\"\"\"\"\"\"\"\"\"\"\"\"\"\"\"\"\"\"\"\"\"\"\"\"\"\"\"\"\"\"\"\"\"\"\"\"\"\"\"\"\"\"\"\"\"\"\"\"\"\"\"\"\"\"\"\"\"\"\"\"\"\"\"\"\"\"\"\"\"\"\"\"\"\"\"\"\"\"\"\"\"\"\"\"\"\"\"\"\"\n",
    "        Choose between random initialized array of data points or array initialized through PCA.\n",
    "    \"\"\"\"\"\"\"\"\"\"\"\"\"\"\"\"\"\"\"\"\"\"\"\"\"\"\"\"\"\"\"\"\"\"\"\"\"\"\"\"\"\"\"\"\"\"\"\"\"\"\"\"\"\"\"\"\"\"\"\"\"\"\"\"\"\"\"\"\"\"\"\"\"\"\"\"\"\"\"\"\"\"\"\"\"\"\"\"\"\"\"\"\"\n",
    "    #choose which data should be taken\n",
    "    #first one is random distributed data points around different middle points\n",
    "    array = init_array_random(array, cluster_guessed, number_of_points, distribution)\n",
    "    #array = load_data_through_PCA(k_mean_max)\n",
    "\n",
    "    #enable plotting\n",
    "    plt.figure()\n",
    "    \n",
    "    #list to gather values for silhouette plot\n",
    "    list_for_silhouette_average = []\n",
    "    \n",
    "    #list to gather values for elbow method\n",
    "    list_for_elbow = []\n",
    "\n",
    "\n",
    "    #k mean normal run through as well as mini-batch\n",
    "    #with varying\n",
    "    for i in range(k_mean_for_init_centroids, k_mean_max+1):\n",
    "\n",
    "        #create array of centroids and initialize\n",
    "        #style:\"cur_x\", \"cur_y\", \"old_x\", \"old_y\", \"counter\", \"score_x\", \"score_y\", \"number of centroid\", \"is changing koordinates?\"\n",
    "        centroids = np.zeros((k_mean_for_init_centroids, 9))\n",
    "        \n",
    "        \"\"\"\"\"\"\"\"\"\"\"\"\"\"\"\"\"\"\"\"\"\"\"\"\"\"\"\"\"\"\"\"\"\"\"\"\"\"\"\"\"\"\"\"\"\"\"\"\"\"\"\"\"\"\"\"\"\"\"\"\"\"\"\"\"\"\"\"\"\"\"\"\"\"\"\"\"\"\"\"\"\"\"\"\"\"\"\"\"\"\"\"\"\"\"\"\"\"\"\n",
    "            Choose between random initialized centroids or centroids initialized with the mean++ algorithm.\n",
    "        \"\"\"\"\"\"\"\"\"\"\"\"\"\"\"\"\"\"\"\"\"\"\"\"\"\"\"\"\"\"\"\"\"\"\"\"\"\"\"\"\"\"\"\"\"\"\"\"\"\"\"\"\"\"\"\"\"\"\"\"\"\"\"\"\"\"\"\"\"\"\"\"\"\"\"\"\"\"\"\"\"\"\"\"\"\"\"\"\"\"\"\"\"\"\"\"\"\"\"\n",
    "        #uncomment for different initialization of centroids\n",
    "        #centroids = init_centroids_random(array, centroids)\n",
    "        centroids = init_centroids_mean(array, centroids, k_mean_for_init_centroids)\n",
    "        \n",
    "        \n",
    "        start = time.time()\n",
    "        \n",
    "        \"\"\"\"\"\"\"\"\"\"\"\"\"\"\"\"\"\"\"\"\"\"\"\"\"\"\"\"\"\"\"\"\"\"\"\"\"\"\"\"\"\"\"\"\"\"\"\"\"\"\"\n",
    "            Choose between mini-batch and k-mean run through.\n",
    "        \"\"\"\"\"\"\"\"\"\"\"\"\"\"\"\"\"\"\"\"\"\"\"\"\"\"\"\"\"\"\"\"\"\"\"\"\"\"\"\"\"\"\"\"\"\"\"\"\"\"\"\n",
    "        #uncomment for mini-batch run through\n",
    "        function_mini_batch(array, centroids, k_mean_for_init_centroids, number_of_mini_batch)\n",
    "        #turn runner = 1 for k-mean run through\n",
    "        runner = 0\n",
    "        counter_runs = 0\n",
    "                \n",
    "        #while true: normal k-ean run through\n",
    "        while runner:\n",
    "            if k_mean_for_init_centroids == 12:\n",
    "                runner = 0\n",
    "                k_mean_for_init_centroids -= 1\n",
    "                break\n",
    "                \n",
    "            measure_distance(array, centroids)            \n",
    "            closest_centroid(array, k_mean_for_init_centroids)\n",
    "            reassign_centroid(array, centroids)\n",
    "            counter_runs += 1   \n",
    "                \n",
    "            if evaluate_score(centroids, k_mean_for_init_centroids):\n",
    "                counter_runs -= 1\n",
    "                plt.suptitle(\"Best run after \" + str(counter_runs) + \" run throughs with \" + str(k_mean_for_init_centroids) + \" centroids.\")\n",
    "                k_mean_for_init_centroids += 1\n",
    "                break\n",
    "                \n",
    "                \n",
    "            elif counter_runs == 51:\n",
    "                counter_runs-=1\n",
    "                print(\"Kmeans stopped after 50 runthroughs, because the calculations took to long\")\n",
    "                plt.suptitle(\"Best run after \" + str(counter_runs) + \" run throughs with \" + str(k_mean_for_init_centroids) + \" centroids.\")\n",
    "                k_mean_for_init_centroids += 1    \n",
    "                break\n",
    "\n",
    "        \n",
    "        \"\"\"\"\"\"\"\"\"\"\"\"\"\"\"\"\"\"\"\"\"\"\"\"\"\"\"\"\"\"\"\"\"\"\"\"\"\"\"\"\"\"\"\"\"\"\"\"\"\"\"\"\"\"\"\"\"\"\"\"\"\"\"\"\"\"\"\"\"\"\"\"\"\"\"\n",
    "            Choose between sckitlearning variants of k-means, k-means with mean++ \n",
    "            ,mini-batch and mini-beatch with mean++.\n",
    "            If you want to see the results of only the sckitlearning variants,\n",
    "            #comment the function_mini_batch() and set runner = 0.\n",
    "        \"\"\"\"\"\"\"\"\"\"\"\"\"\"\"\"\"\"\"\"\"\"\"\"\"\"\"\"\"\"\"\"\"\"\"\"\"\"\"\"\"\"\"\"\"\"\"\"\"\"\"\"\"\"\"\"\"\"\"\"\"\"\"\"\"\"\"\"\"\"\"\"\"\"\"\n",
    "        #k_mean_with_random_init_sckitlearning(array, centroids, k_mean_for_init_centroids)\n",
    "        #k_mean_with_meansplusplus_init_sckitlearning(array, centroids, k_mean_for_init_centroids)\n",
    "        #mini_batch_with_random_init_sckitlearning(array, centroids, k_mean_for_init_centroids, number_of_mini_batch)\n",
    "        #mini_batch_with_meansplusplus_init_sckitlearning(array, centroids, k_mean_for_init_centroids, number_of_mini_batch)\n",
    "        \n",
    "        end = time.time()\n",
    "\n",
    "        zeit=end-start\n",
    "\n",
    "        print(\"\\nTime it took for the result for one run through with \" + str(k_mean_for_init_centroids) + \" centroids: \" + str(zeit) + \" seconds.\")\n",
    "        \n",
    "        if runner != 1:\n",
    "            plt.suptitle(\"Best run after mini-batch run through with \" + str(k_mean_for_init_centroids) + \" centroids.\")\n",
    "            k_mean_for_init_centroids += 1\n",
    "            \n",
    "        \n",
    "        print(\"\\nFinal Centroids after one run through:\")\n",
    "        for counter, row in enumerate(centroids):\n",
    "            print(str(counter+1) + \". : \" + str(row[0]) + \" | \" + str(row[1]))\n",
    "            \n",
    "        \"\"\"\"\"\"\"\"\"\"\"\"\"\"\"\"\"\"\"\"\"\"\"\"\"\"\"\"\"\"\"\"\"\"\"\"\"\"\"\"\"\"\"\"\"\"\"\"\"\"\"\"\"\"\"\"\"\"\"\"\"\"\"\"\"\"\"\"\"\"\"\"\"\"\"\"\"\"\"\"\"\"\"\"\"\"\"\"\"\n",
    "            Enable/ Disable Plotting of the data points and centroids after one run through\n",
    "        \"\"\"\"\"\"\"\"\"\"\"\"\"\"\"\"\"\"\"\"\"\"\"\"\"\"\"\"\"\"\"\"\"\"\"\"\"\"\"\"\"\"\"\"\"\"\"\"\"\"\"\"\"\"\"\"\"\"\"\"\"\"\"\"\"\"\"\"\"\"\"\"\"\"\"\"\"\"\"\"\"\"\"\"\"\"\"\"\"\n",
    "        #uncomment to plot the data points and centroids\n",
    "        plot_array_and_centroids(array, centroids)\n",
    "        \n",
    "        list_for_silhouette_average.append(silhouette_evaluation(array, centroids, k_mean_for_init_centroids-1)) \n",
    "        list_for_elbow.append(evaluate_score_for_elbow(array, centroids))\n",
    "    \n",
    "    x_list = []\n",
    "    for i in range(k_mean_start_point, k_mean_max+1):\n",
    "        x_list.append(i)\n",
    "        \n",
    "    plt.xlabel(\"Number of clusters k\")\n",
    "    plt.ylabel(\"Total Sum of Square\")\n",
    "    plt.suptitle(\"Evaluation of total sum of square with elbow method\")\n",
    "    plt.plot(x_list, list_for_elbow)\n",
    "    plt.show()\n",
    "    \n",
    "    \n",
    "    plt.xlabel(\"Number of clusters k\")\n",
    "    plt.ylabel(\"Values for s_i average\")\n",
    "    plt.suptitle(\"Evaluation of Silhouette Plot\")\n",
    "    plt.plot(x_list, list_for_silhouette_average)\n",
    "    plt.show()\n",
    "    \n",
    "main()     \n"
   ]
  },
  {
   "cell_type": "code",
   "execution_count": null,
   "metadata": {},
   "outputs": [],
   "source": []
  },
  {
   "cell_type": "code",
   "execution_count": null,
   "metadata": {},
   "outputs": [],
   "source": []
  },
  {
   "cell_type": "code",
   "execution_count": null,
   "metadata": {},
   "outputs": [],
   "source": []
  }
 ],
 "metadata": {
  "kernelspec": {
   "display_name": "Python 3",
   "language": "python",
   "name": "python3"
  },
  "language_info": {
   "codemirror_mode": {
    "name": "ipython",
    "version": 3
   },
   "file_extension": ".py",
   "mimetype": "text/x-python",
   "name": "python",
   "nbconvert_exporter": "python",
   "pygments_lexer": "ipython3",
   "version": "3.7.3"
  }
 },
 "nbformat": 4,
 "nbformat_minor": 2
}
