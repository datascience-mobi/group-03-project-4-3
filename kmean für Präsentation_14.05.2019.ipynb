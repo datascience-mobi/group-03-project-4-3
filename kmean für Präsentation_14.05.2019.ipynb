{
 "cells": [
  {
   "cell_type": "code",
   "execution_count": 43,
   "metadata": {},
   "outputs": [],
   "source": [
    "#import all packages \n",
    "import numpy as np\n",
    "import random\n",
    "import matplotlib.pyplot as plt\n",
    "%matplotlib inline\n",
    "import math\n",
    "import copy"
   ]
  },
  {
   "cell_type": "code",
   "execution_count": 44,
   "metadata": {},
   "outputs": [],
   "source": [
    "#initialize centroids with random numbers:\n",
    "def init_centroids(centroids):\n",
    "    for counter_centroids, row in enumerate(centroids):\n",
    "        row[0]=random.uniform(0,10)\n",
    "        row[1]=random.uniform(0,10)\n",
    "        row[7]=counter_centroids+1 #should be numbered 1, 2, ... not 0, 1, ...\n"
   ]
  },
  {
   "cell_type": "code",
   "execution_count": 45,
   "metadata": {},
   "outputs": [],
   "source": [
    "#load data\n",
    "#create 3 clusters of randomly distributed points\n",
    "#TODO load in data\n",
    "\n",
    "def init_array(array):\n",
    "    \n",
    "    #create emty arrays of right size\n",
    "    cluster_x = np.zeros((300,1))\n",
    "    cluster_1_x =  np.zeros((100, 1))\n",
    "    cluster_2_x =  np.zeros((100, 1))\n",
    "    cluster_3_x =  np.zeros((100, 1))\n",
    "\n",
    "    cluster_y = np.zeros((300,1))\n",
    "    cluster_1_y =  np.zeros((100, 1))\n",
    "    cluster_2_y =  np.zeros((100, 1))\n",
    "    cluster_3_y =  np.zeros((100, 1))\n",
    "\n",
    "    #fill array with randomly chosen x-/ y-values\n",
    "    #points are choosen around perfekt centroid:\n",
    "    # 1: (2, 2)\n",
    "    # 2: (8, 2)\n",
    "    # 3: (2, 8)\n",
    "    \n",
    "    for x in range(100):\n",
    "        cluster_1_x[x] = random.uniform(1, 3)\n",
    "        #cluster_1_x[x] = random.uniform(0, 10)\n",
    "    for x in range(100):\n",
    "        cluster_1_y[x] = random.uniform(1, 3)\n",
    "        #cluster_1_y[x] = random.uniform(0, 10)\n",
    "    \n",
    "    for x in range(100):\n",
    "        cluster_2_x[x] = random.uniform(7, 9)\n",
    "    for x in range(100):\n",
    "        cluster_2_y[x] = random.uniform(1, 3)\n",
    "    \n",
    "    for x in range(100):\n",
    "        cluster_3_x[x] = random.uniform(1, 3)   \n",
    "    for x in range(100):\n",
    "        cluster_3_y[x] = random.uniform(7, 9)\n",
    "\n",
    "    \n",
    "    #concentrate cluster_1/ 2/ 3 into one array for x and y each\n",
    "    cluster_x = np.concatenate((cluster_1_x, cluster_2_x), axis=0)\n",
    "    cluster_x = np.concatenate((cluster_x, cluster_3_x), axis=0)\n",
    "\n",
    "    cluster_y = np.concatenate((cluster_1_y, cluster_2_y), axis=0)\n",
    "    cluster_y = np.concatenate((cluster_y, cluster_3_y), axis=0)\n",
    "\n",
    "\n",
    "    #counter to go through x and y array\n",
    "    x_counter=0\n",
    "    y_counter=0\n",
    "\n",
    "\n",
    "    #load 2D array with data\n",
    "    for counter_load, row in enumerate(array):\n",
    "        row[0]=cluster_x[x_counter]\n",
    "        row[1]=cluster_y[y_counter]\n",
    "        x_counter+=1\n",
    "        y_counter+=1\n",
    "    "
   ]
  },
  {
   "cell_type": "code",
   "execution_count": 46,
   "metadata": {},
   "outputs": [],
   "source": [
    "#function which prints all points in their colour corresbonding to their closest centroid\n",
    "#in first run through every point is printed in black\n",
    "#function which prints all points in their colour corresbonding to their closest centroid\n",
    "def plot_array():\n",
    "    \n",
    "    #label plot\n",
    "    plt.xlabel('xlabel')\n",
    "    plt.ylabel('ylabel')\n",
    "    \n",
    "    #dictionairy for colours \n",
    "    dictionairy = {0 : 'black',\n",
    "                   1 : 'darkblue', \n",
    "                   2 : 'darkorange', \n",
    "                   3 : 'darkgreen', \n",
    "                   4 : 'fuchsia', \n",
    "                   5 : 'aqua', \n",
    "                   6 : 'lime', \n",
    "                   7 : 'steelblue',\n",
    "                   8 : 'brown', \n",
    "                   9 : 'darkgrey', \n",
    "                  10 : 'gold'}\n",
    "    \n",
    "    #draw points\n",
    "    for counter, value in enumerate(array):\n",
    "        wert = value[2]\n",
    "        farbe = dictionairy[wert]\n",
    "        plt.plot(value[0],value[1], marker = 'o', color = farbe, markersize=3)\n",
    "       \n",
    "    \n",
    "    #draw centroids    \n",
    "    for counter_centroids, row in enumerate(centroids):\n",
    "        wert = row[7]\n",
    "        farbe = dictionairy[wert]\n",
    "        plt.plot(row[0],row[1], marker = 'x', color = farbe, markersize=5, markerfacecolor = 'k', markeredgewidth=1.5)\n",
    "       "
   ]
  },
  {
   "cell_type": "code",
   "execution_count": 47,
   "metadata": {},
   "outputs": [],
   "source": [
    "#measures distance between a data x-/ y-value and centroid x-/ y-value and returns distance\n",
    "def distance_to_point(x, y, x_centroid, y_centroid):\n",
    "    del_x = x-x_centroid \n",
    "    del_y = y-y_centroid\n",
    "    del_x = -del_x if del_x<0 else del_x\n",
    "    del_y = -del_y if del_y<0 else del_y\n",
    "    distance = math.sqrt(del_x**2 + del_y**2)\n",
    "    return distance\n",
    "\n",
    "#measures distance between a x-/ y-value and centroid and returns distance\n",
    "def measure_distance():\n",
    "    \n",
    "    #goes through each data point\n",
    "    for counter_array, value in enumerate(array):\n",
    "        #goes through each centroid\n",
    "        for counter_centroids, row in enumerate(centroids):\n",
    "            value[counter_centroids + 3] = distance_to_point(value[0], value[1], row[0], row[1])"
   ]
  },
  {
   "cell_type": "code",
   "execution_count": 48,
   "metadata": {},
   "outputs": [],
   "source": [
    "#measure closest centroid and assigns to array\n",
    "#closest centroid a=1, b=2, c=3\n",
    "def closest_centroid():\n",
    "    \n",
    "    #deepcoopy of array\n",
    "    array_copy = copy.deepcopy(array)\n",
    "    #slicing array, so only distances are in new array\n",
    "    #[for each column, from the third row to the end]\n",
    "    array_copy = array_copy[:,3:]\n",
    "    \n",
    "    height, distance_count = array_copy.shape\n",
    "    \n",
    "    while distance_count != 0:\n",
    "        \n",
    "        for counter_array, row in enumerate(array_copy):\n",
    "            if row[distance_count-1] == min(row) and min(row) != 0:\n",
    "                array[counter_array, 2] = distance_count\n",
    "        \n",
    "        distance_count -= 1\n",
    "            "
   ]
  },
  {
   "cell_type": "code",
   "execution_count": 49,
   "metadata": {},
   "outputs": [],
   "source": [
    "#goes through the array and adds for each centroid the x-/ y-values and a counter \n",
    "#to keep track of the number of inputs it saves it into centroids array\n",
    "def gather_values_from_array():\n",
    "    for counter_array, value in enumerate(array):\n",
    "        k = int(value[2]) - 1\n",
    "        centroids[k,4] += 1\n",
    "        centroids[k,5] += value[0]\n",
    "        centroids[k,6] += value[1]\n",
    "        \n",
    "#the centroids are reassigned (new_x = score_x / counter)    \n",
    "def reassign_centroid():\n",
    "\n",
    "    gather_values_from_array()\n",
    "\n",
    "    for counter_centroids, row in enumerate(centroids):\n",
    "         \n",
    "        #write old values into new spot\n",
    "        row[2] = row[0]\n",
    "        row[3] = row[1]\n",
    "        \n",
    "        #if there are points assigned to each centroid (counter != 0)\n",
    "        #the centroids are reassigned (new_x = score_x / counter)\n",
    "        if row[4] != 0:\n",
    "            new_x = row[5] / row[4]\n",
    "            new_y = row[6] / row[4]\n",
    "            row[0] = new_x\n",
    "            row[1] = new_y\n",
    "        \n",
    "        \n",
    "        #resets values for the next reassign_centroid() / kmean runthrough\n",
    "        row[4] = 0\n",
    "        row[5] = 0\n",
    "        row[6] = 0\n"
   ]
  },
  {
   "cell_type": "code",
   "execution_count": 50,
   "metadata": {},
   "outputs": [],
   "source": [
    "#evaluate distance change of centroids\n",
    "#by comparing centroids coordinates before and after reassign_centroids()\n",
    "def evaluate_score():\n",
    "    \n",
    "    \n",
    "    for counter_centroids, row in enumerate(centroids):\n",
    "        \n",
    "        #distance=old value-new value\n",
    "        distance_x = row[2]-row[0]\n",
    "        distance_y = row[3]-row[1]\n",
    "        \n",
    "        #absolute value  \n",
    "        distance_x = -distance_x if distance_x<0 else distance_x\n",
    "        distance_y = -distance_y if distance_y<0 else distance_y\n",
    "        distance = math.sqrt(distance_x**2 + distance_y**2)\n",
    "         \n",
    "        #for less than 0.05%  it writes true in colum nr 8\n",
    "        min_value = 0.0005\n",
    "        if distance < min_value:\n",
    "            row[8] = 1 # == true\n",
    "        else: \n",
    "            row[8] =  0 # == false\n",
    "    \n",
    "    \n",
    "    #if the complete row nr 8 is filled with 1\n",
    "    #the sum of those must be cluster_guess\n",
    "    summe = 0\n",
    "    \n",
    "    for counter_centroids, row in enumerate(centroids):\n",
    "        summe += row[8]\n",
    "    \n",
    "            \n",
    "    if summe == cluster_guess:\n",
    "        return 1# == true\n",
    "    else:\n",
    "        return 0# == false"
   ]
  },
  {
   "cell_type": "code",
   "execution_count": 51,
   "metadata": {
    "scrolled": true
   },
   "outputs": [
    {
     "data": {
      "image/png": "[encoded data removed]",
      "text/plain": [
       "<Figure size 432x288 with 1 Axes>"
      ]
     },
     "metadata": {
      "needs_background": "light"
     },
     "output_type": "display_data"
    },
    {
     "data": {
      "image/png": "[encoded data removed]",
      "text/plain": [
       "<Figure size 432x288 with 1 Axes>"
      ]
     },
     "metadata": {
      "needs_background": "light"
     },
     "output_type": "display_data"
    },
    {
     "data": {
      "image/png": "[encoded data removed]",
      "text/plain": [
       "<Figure size 432x288 with 1 Axes>"
      ]
     },
     "metadata": {
      "needs_background": "light"
     },
     "output_type": "display_data"
    },
    {
     "name": "stdout",
     "output_type": "stream",
     "text": [
      "Programm stops after 2 runthroughs\n"
     ]
    }
   ],
   "source": [
    "#cluster guess maximum is 10\n",
    "cluster_guess=3\n",
    "\n",
    "#create array of data points\n",
    "#style: cluster_guess + 3 dimension because: x-value, y-value, the closest centroid, distance to centroids, ....\n",
    "array = np.zeros((300,cluster_guess + 3))\n",
    "init_array(array)\n",
    "\n",
    "#create array of centroids and initialize\n",
    "#style:\"cur_x\", \"cur_y\", \"old_x\", \"old_y\", \"counter\", \"score_x\", \"score_y\", \"number of centroid\", \"is changing koordinates?\"\n",
    "centroids = np.zeros((cluster_guess,9))\n",
    "init_centroids(centroids)\n",
    "\n",
    "#plot figure before 1st run-through\n",
    "plt.figure()\n",
    "plt.suptitle('Before the 1st run-through')\n",
    "plot_array()\n",
    "plt.show()\n",
    "\n",
    "#variables for run-through\n",
    "counter_runs = 1\n",
    "runner = 1 #bool\n",
    "\n",
    "\n",
    "while runner:\n",
    "    measure_distance()\n",
    "    closest_centroid()\n",
    "    reassign_centroid()\n",
    "       \n",
    "    if evaluate_score():\n",
    "        runner=0\n",
    "        break\n",
    "    else:\n",
    "        plot_array()\n",
    "        plt.show()\n",
    "    counter_runs += 1\n",
    "        \n",
    "        \n",
    "\n",
    "print(\"Programm stops after \" + str(counter_runs-1) + \" runthroughs\")"
   ]
  },
  {
   "cell_type": "code",
   "execution_count": null,
   "metadata": {},
   "outputs": [],
   "source": []
  },
  {
   "cell_type": "code",
   "execution_count": null,
   "metadata": {},
   "outputs": [],
   "source": []
  }
 ],
 "metadata": {
  "kernelspec": {
   "display_name": "Python 3",
   "language": "python",
   "name": "python3"
  },
  "language_info": {
   "codemirror_mode": {
    "name": "ipython",
    "version": 3
   },
   "file_extension": ".py",
   "mimetype": "text/x-python",
   "name": "python",
   "nbconvert_exporter": "python",
   "pygments_lexer": "ipython3",
   "version": "3.7.3"
  }
 },
 "nbformat": 4,
 "nbformat_minor": 2
}
